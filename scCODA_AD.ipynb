{
  "cells": [
    {
      "cell_type": "markdown",
      "metadata": {
        "collapsed": true,
        "pycharm": {
          "name": "#%% md\n"
        },
        "id": "-7-c2m0xfVWe"
      },
      "source": [
        "# scCODA - Compositional analysis of single-cell data\n"
      ]
    },
    {
      "cell_type": "markdown",
      "metadata": {
        "pycharm": {
          "name": "#%% md\n"
        },
        "id": "DDbOIOg6fVWf"
      },
      "source": [
        "\n",
        "This notebook serves as a tutorial for using the *scCODA* package ([Büttner, Ostner et al., 2021](https://www.nature.com/articles/s41467-021-27150-6)) to analyze changes in cell composition data.\n",
        "\n",
        "The package is intended to be used with cell composition from single-cell RNA-seq experiments, however there are no technical\n",
        "restrictions that prevent the use of data from other sources.\n",
        "\n",
        "The data we use in the following example comes from [Haber et al., 2017](https://www.nature.com/articles/nature24489).\n",
        "It contains samples from the small intestinal epithelium of mice with different conditions.\n",
        "\n",
        "This tutorial is designed to be executed on a standard computer (any operating system) in a Python environment with scCODA, Jupyter notebook and all their dependencies installed.\n",
        "Running the tutorial takes about 1.5 minutes on a 2020 Apple MacBook Pro (16GB RAM).\n"
      ]
    },
    {
      "cell_type": "code",
      "source": [
        "pip install sccoda"
      ],
      "metadata": {
        "id": "OiDu6EOCfkAp",
        "outputId": "092a4d86-b809-4852-9720-f59a3c83302e",
        "colab": {
          "base_uri": "https://localhost:8080/"
        }
      },
      "execution_count": null,
      "outputs": [
        {
          "output_type": "stream",
          "name": "stdout",
          "text": [
            "Collecting sccoda\n",
            "  Downloading scCODA-0.1.9-py3-none-any.whl (36 kB)\n",
            "Requirement already satisfied: numpy>=1.21 in /usr/local/lib/python3.10/dist-packages (from sccoda) (1.22.4)\n",
            "Requirement already satisfied: scipy in /usr/local/lib/python3.10/dist-packages (from sccoda) (1.10.1)\n",
            "Requirement already satisfied: tensorflow>=2.8 in /usr/local/lib/python3.10/dist-packages (from sccoda) (2.12.0)\n",
            "Requirement already satisfied: tensorflow-probability>=0.16.0 in /usr/local/lib/python3.10/dist-packages (from sccoda) (0.20.1)\n",
            "Requirement already satisfied: arviz>=0.11 in /usr/local/lib/python3.10/dist-packages (from sccoda) (0.15.1)\n",
            "Requirement already satisfied: seaborn in /usr/local/lib/python3.10/dist-packages (from sccoda) (0.12.2)\n",
            "Requirement already satisfied: pandas>=1.0 in /usr/local/lib/python3.10/dist-packages (from sccoda) (1.5.3)\n",
            "Requirement already satisfied: matplotlib>=3.0 in /usr/local/lib/python3.10/dist-packages (from sccoda) (3.7.1)\n",
            "Collecting scanpy (from sccoda)\n",
            "  Downloading scanpy-1.9.3-py3-none-any.whl (2.0 MB)\n",
            "\u001b[2K     \u001b[90m━━━━━━━━━━━━━━━━━━━━━━━━━━━━━━━━━━━━━━━━\u001b[0m \u001b[32m2.0/2.0 MB\u001b[0m \u001b[31m27.0 MB/s\u001b[0m eta \u001b[36m0:00:00\u001b[0m\n",
            "\u001b[?25hCollecting anndata (from sccoda)\n",
            "  Downloading anndata-0.9.2-py3-none-any.whl (104 kB)\n",
            "\u001b[2K     \u001b[90m━━━━━━━━━━━━━━━━━━━━━━━━━━━━━━━━━━━━━━━\u001b[0m \u001b[32m104.2/104.2 kB\u001b[0m \u001b[31m7.5 MB/s\u001b[0m eta \u001b[36m0:00:00\u001b[0m\n",
            "\u001b[?25hRequirement already satisfied: patsy in /usr/local/lib/python3.10/dist-packages (from sccoda) (0.5.3)\n",
            "Requirement already satisfied: statsmodels in /usr/local/lib/python3.10/dist-packages (from sccoda) (0.13.5)\n",
            "Requirement already satisfied: rpy2 in /usr/local/lib/python3.10/dist-packages (from sccoda) (3.4.2)\n",
            "Requirement already satisfied: setuptools>=60.0.0 in /usr/local/lib/python3.10/dist-packages (from arviz>=0.11->sccoda) (67.7.2)\n",
            "Requirement already satisfied: packaging in /usr/local/lib/python3.10/dist-packages (from arviz>=0.11->sccoda) (23.1)\n",
            "Requirement already satisfied: xarray>=0.21.0 in /usr/local/lib/python3.10/dist-packages (from arviz>=0.11->sccoda) (2022.12.0)\n",
            "Requirement already satisfied: h5netcdf>=1.0.2 in /usr/local/lib/python3.10/dist-packages (from arviz>=0.11->sccoda) (1.2.0)\n",
            "Requirement already satisfied: typing-extensions>=4.1.0 in /usr/local/lib/python3.10/dist-packages (from arviz>=0.11->sccoda) (4.7.1)\n",
            "Requirement already satisfied: xarray-einstats>=0.3 in /usr/local/lib/python3.10/dist-packages (from arviz>=0.11->sccoda) (0.6.0)\n",
            "Requirement already satisfied: contourpy>=1.0.1 in /usr/local/lib/python3.10/dist-packages (from matplotlib>=3.0->sccoda) (1.1.0)\n",
            "Requirement already satisfied: cycler>=0.10 in /usr/local/lib/python3.10/dist-packages (from matplotlib>=3.0->sccoda) (0.11.0)\n",
            "Requirement already satisfied: fonttools>=4.22.0 in /usr/local/lib/python3.10/dist-packages (from matplotlib>=3.0->sccoda) (4.41.1)\n",
            "Requirement already satisfied: kiwisolver>=1.0.1 in /usr/local/lib/python3.10/dist-packages (from matplotlib>=3.0->sccoda) (1.4.4)\n",
            "Requirement already satisfied: pillow>=6.2.0 in /usr/local/lib/python3.10/dist-packages (from matplotlib>=3.0->sccoda) (9.4.0)\n",
            "Requirement already satisfied: pyparsing>=2.3.1 in /usr/local/lib/python3.10/dist-packages (from matplotlib>=3.0->sccoda) (3.1.0)\n",
            "Requirement already satisfied: python-dateutil>=2.7 in /usr/local/lib/python3.10/dist-packages (from matplotlib>=3.0->sccoda) (2.8.2)\n",
            "Requirement already satisfied: pytz>=2020.1 in /usr/local/lib/python3.10/dist-packages (from pandas>=1.0->sccoda) (2022.7.1)\n",
            "Requirement already satisfied: absl-py>=1.0.0 in /usr/local/lib/python3.10/dist-packages (from tensorflow>=2.8->sccoda) (1.4.0)\n",
            "Requirement already satisfied: astunparse>=1.6.0 in /usr/local/lib/python3.10/dist-packages (from tensorflow>=2.8->sccoda) (1.6.3)\n",
            "Requirement already satisfied: flatbuffers>=2.0 in /usr/local/lib/python3.10/dist-packages (from tensorflow>=2.8->sccoda) (23.5.26)\n",
            "Requirement already satisfied: gast<=0.4.0,>=0.2.1 in /usr/local/lib/python3.10/dist-packages (from tensorflow>=2.8->sccoda) (0.4.0)\n",
            "Requirement already satisfied: google-pasta>=0.1.1 in /usr/local/lib/python3.10/dist-packages (from tensorflow>=2.8->sccoda) (0.2.0)\n",
            "Requirement already satisfied: grpcio<2.0,>=1.24.3 in /usr/local/lib/python3.10/dist-packages (from tensorflow>=2.8->sccoda) (1.56.2)\n",
            "Requirement already satisfied: h5py>=2.9.0 in /usr/local/lib/python3.10/dist-packages (from tensorflow>=2.8->sccoda) (3.8.0)\n",
            "Requirement already satisfied: jax>=0.3.15 in /usr/local/lib/python3.10/dist-packages (from tensorflow>=2.8->sccoda) (0.4.13)\n",
            "Requirement already satisfied: keras<2.13,>=2.12.0 in /usr/local/lib/python3.10/dist-packages (from tensorflow>=2.8->sccoda) (2.12.0)\n",
            "Requirement already satisfied: libclang>=13.0.0 in /usr/local/lib/python3.10/dist-packages (from tensorflow>=2.8->sccoda) (16.0.6)\n",
            "Requirement already satisfied: opt-einsum>=2.3.2 in /usr/local/lib/python3.10/dist-packages (from tensorflow>=2.8->sccoda) (3.3.0)\n",
            "Requirement already satisfied: protobuf!=4.21.0,!=4.21.1,!=4.21.2,!=4.21.3,!=4.21.4,!=4.21.5,<5.0.0dev,>=3.20.3 in /usr/local/lib/python3.10/dist-packages (from tensorflow>=2.8->sccoda) (3.20.3)\n",
            "Requirement already satisfied: six>=1.12.0 in /usr/local/lib/python3.10/dist-packages (from tensorflow>=2.8->sccoda) (1.16.0)\n",
            "Requirement already satisfied: tensorboard<2.13,>=2.12 in /usr/local/lib/python3.10/dist-packages (from tensorflow>=2.8->sccoda) (2.12.3)\n",
            "Requirement already satisfied: tensorflow-estimator<2.13,>=2.12.0 in /usr/local/lib/python3.10/dist-packages (from tensorflow>=2.8->sccoda) (2.12.0)\n",
            "Requirement already satisfied: termcolor>=1.1.0 in /usr/local/lib/python3.10/dist-packages (from tensorflow>=2.8->sccoda) (2.3.0)\n",
            "Requirement already satisfied: wrapt<1.15,>=1.11.0 in /usr/local/lib/python3.10/dist-packages (from tensorflow>=2.8->sccoda) (1.14.1)\n",
            "Requirement already satisfied: tensorflow-io-gcs-filesystem>=0.23.1 in /usr/local/lib/python3.10/dist-packages (from tensorflow>=2.8->sccoda) (0.32.0)\n",
            "Requirement already satisfied: decorator in /usr/local/lib/python3.10/dist-packages (from tensorflow-probability>=0.16.0->sccoda) (4.4.2)\n",
            "Requirement already satisfied: cloudpickle>=1.3 in /usr/local/lib/python3.10/dist-packages (from tensorflow-probability>=0.16.0->sccoda) (2.2.1)\n",
            "Requirement already satisfied: dm-tree in /usr/local/lib/python3.10/dist-packages (from tensorflow-probability>=0.16.0->sccoda) (0.1.8)\n",
            "Requirement already satisfied: natsort in /usr/local/lib/python3.10/dist-packages (from anndata->sccoda) (8.3.1)\n",
            "Requirement already satisfied: cffi>=1.10.0 in /usr/local/lib/python3.10/dist-packages (from rpy2->sccoda) (1.15.1)\n",
            "Requirement already satisfied: jinja2 in /usr/local/lib/python3.10/dist-packages (from rpy2->sccoda) (3.1.2)\n",
            "Requirement already satisfied: tzlocal in /usr/local/lib/python3.10/dist-packages (from rpy2->sccoda) (5.0.1)\n",
            "Requirement already satisfied: tqdm in /usr/local/lib/python3.10/dist-packages (from scanpy->sccoda) (4.65.0)\n",
            "Requirement already satisfied: scikit-learn>=0.22 in /usr/local/lib/python3.10/dist-packages (from scanpy->sccoda) (1.2.2)\n",
            "Requirement already satisfied: networkx>=2.3 in /usr/local/lib/python3.10/dist-packages (from scanpy->sccoda) (3.1)\n",
            "Requirement already satisfied: joblib in /usr/local/lib/python3.10/dist-packages (from scanpy->sccoda) (1.3.1)\n",
            "Requirement already satisfied: numba>=0.41.0 in /usr/local/lib/python3.10/dist-packages (from scanpy->sccoda) (0.56.4)\n",
            "Collecting umap-learn>=0.3.10 (from scanpy->sccoda)\n",
            "  Downloading umap-learn-0.5.3.tar.gz (88 kB)\n",
            "\u001b[2K     \u001b[90m━━━━━━━━━━━━━━━━━━━━━━━━━━━━━━━━━━━━━━━━\u001b[0m \u001b[32m88.2/88.2 kB\u001b[0m \u001b[31m9.4 MB/s\u001b[0m eta \u001b[36m0:00:00\u001b[0m\n",
            "\u001b[?25h  Preparing metadata (setup.py) ... \u001b[?25l\u001b[?25hdone\n",
            "Collecting session-info (from scanpy->sccoda)\n",
            "  Downloading session_info-1.0.0.tar.gz (24 kB)\n",
            "  Preparing metadata (setup.py) ... \u001b[?25l\u001b[?25hdone\n",
            "Requirement already satisfied: wheel<1.0,>=0.23.0 in /usr/local/lib/python3.10/dist-packages (from astunparse>=1.6.0->tensorflow>=2.8->sccoda) (0.41.0)\n",
            "Requirement already satisfied: pycparser in /usr/local/lib/python3.10/dist-packages (from cffi>=1.10.0->rpy2->sccoda) (2.21)\n",
            "Requirement already satisfied: ml-dtypes>=0.1.0 in /usr/local/lib/python3.10/dist-packages (from jax>=0.3.15->tensorflow>=2.8->sccoda) (0.2.0)\n",
            "Requirement already satisfied: llvmlite<0.40,>=0.39.0dev0 in /usr/local/lib/python3.10/dist-packages (from numba>=0.41.0->scanpy->sccoda) (0.39.1)\n",
            "Requirement already satisfied: threadpoolctl>=2.0.0 in /usr/local/lib/python3.10/dist-packages (from scikit-learn>=0.22->scanpy->sccoda) (3.2.0)\n",
            "Requirement already satisfied: google-auth<3,>=1.6.3 in /usr/local/lib/python3.10/dist-packages (from tensorboard<2.13,>=2.12->tensorflow>=2.8->sccoda) (2.17.3)\n",
            "Requirement already satisfied: google-auth-oauthlib<1.1,>=0.5 in /usr/local/lib/python3.10/dist-packages (from tensorboard<2.13,>=2.12->tensorflow>=2.8->sccoda) (1.0.0)\n",
            "Requirement already satisfied: markdown>=2.6.8 in /usr/local/lib/python3.10/dist-packages (from tensorboard<2.13,>=2.12->tensorflow>=2.8->sccoda) (3.4.4)\n",
            "Requirement already satisfied: requests<3,>=2.21.0 in /usr/local/lib/python3.10/dist-packages (from tensorboard<2.13,>=2.12->tensorflow>=2.8->sccoda) (2.27.1)\n",
            "Requirement already satisfied: tensorboard-data-server<0.8.0,>=0.7.0 in /usr/local/lib/python3.10/dist-packages (from tensorboard<2.13,>=2.12->tensorflow>=2.8->sccoda) (0.7.1)\n",
            "Requirement already satisfied: werkzeug>=1.0.1 in /usr/local/lib/python3.10/dist-packages (from tensorboard<2.13,>=2.12->tensorflow>=2.8->sccoda) (2.3.6)\n",
            "Collecting pynndescent>=0.5 (from umap-learn>=0.3.10->scanpy->sccoda)\n",
            "  Downloading pynndescent-0.5.10.tar.gz (1.1 MB)\n",
            "\u001b[2K     \u001b[90m━━━━━━━━━━━━━━━━━━━━━━━━━━━━━━━━━━━━━━━━\u001b[0m \u001b[32m1.1/1.1 MB\u001b[0m \u001b[31m69.5 MB/s\u001b[0m eta \u001b[36m0:00:00\u001b[0m\n",
            "\u001b[?25h  Preparing metadata (setup.py) ... \u001b[?25l\u001b[?25hdone\n",
            "Requirement already satisfied: MarkupSafe>=2.0 in /usr/local/lib/python3.10/dist-packages (from jinja2->rpy2->sccoda) (2.1.3)\n",
            "Collecting stdlib_list (from session-info->scanpy->sccoda)\n",
            "  Downloading stdlib_list-0.9.0-py3-none-any.whl (75 kB)\n",
            "\u001b[2K     \u001b[90m━━━━━━━━━━━━━━━━━━━━━━━━━━━━━━━━━━━━━━━━\u001b[0m \u001b[32m75.6/75.6 kB\u001b[0m \u001b[31m9.1 MB/s\u001b[0m eta \u001b[36m0:00:00\u001b[0m\n",
            "\u001b[?25hRequirement already satisfied: cachetools<6.0,>=2.0.0 in /usr/local/lib/python3.10/dist-packages (from google-auth<3,>=1.6.3->tensorboard<2.13,>=2.12->tensorflow>=2.8->sccoda) (5.3.1)\n",
            "Requirement already satisfied: pyasn1-modules>=0.2.1 in /usr/local/lib/python3.10/dist-packages (from google-auth<3,>=1.6.3->tensorboard<2.13,>=2.12->tensorflow>=2.8->sccoda) (0.3.0)\n",
            "Requirement already satisfied: rsa<5,>=3.1.4 in /usr/local/lib/python3.10/dist-packages (from google-auth<3,>=1.6.3->tensorboard<2.13,>=2.12->tensorflow>=2.8->sccoda) (4.9)\n",
            "Requirement already satisfied: requests-oauthlib>=0.7.0 in /usr/local/lib/python3.10/dist-packages (from google-auth-oauthlib<1.1,>=0.5->tensorboard<2.13,>=2.12->tensorflow>=2.8->sccoda) (1.3.1)\n",
            "Requirement already satisfied: urllib3<1.27,>=1.21.1 in /usr/local/lib/python3.10/dist-packages (from requests<3,>=2.21.0->tensorboard<2.13,>=2.12->tensorflow>=2.8->sccoda) (1.26.16)\n",
            "Requirement already satisfied: certifi>=2017.4.17 in /usr/local/lib/python3.10/dist-packages (from requests<3,>=2.21.0->tensorboard<2.13,>=2.12->tensorflow>=2.8->sccoda) (2023.7.22)\n",
            "Requirement already satisfied: charset-normalizer~=2.0.0 in /usr/local/lib/python3.10/dist-packages (from requests<3,>=2.21.0->tensorboard<2.13,>=2.12->tensorflow>=2.8->sccoda) (2.0.12)\n",
            "Requirement already satisfied: idna<4,>=2.5 in /usr/local/lib/python3.10/dist-packages (from requests<3,>=2.21.0->tensorboard<2.13,>=2.12->tensorflow>=2.8->sccoda) (3.4)\n",
            "Requirement already satisfied: pyasn1<0.6.0,>=0.4.6 in /usr/local/lib/python3.10/dist-packages (from pyasn1-modules>=0.2.1->google-auth<3,>=1.6.3->tensorboard<2.13,>=2.12->tensorflow>=2.8->sccoda) (0.5.0)\n",
            "Requirement already satisfied: oauthlib>=3.0.0 in /usr/local/lib/python3.10/dist-packages (from requests-oauthlib>=0.7.0->google-auth-oauthlib<1.1,>=0.5->tensorboard<2.13,>=2.12->tensorflow>=2.8->sccoda) (3.2.2)\n",
            "Building wheels for collected packages: umap-learn, session-info, pynndescent\n",
            "  Building wheel for umap-learn (setup.py) ... \u001b[?25l\u001b[?25hdone\n",
            "  Created wheel for umap-learn: filename=umap_learn-0.5.3-py3-none-any.whl size=82813 sha256=1b76b0b71a8a229b04b9c67b06086a562cff97771e5ac92221e17e695e608b3e\n",
            "  Stored in directory: /root/.cache/pip/wheels/a0/e8/c6/a37ea663620bd5200ea1ba0907ab3c217042c1d035ef606acc\n",
            "  Building wheel for session-info (setup.py) ... \u001b[?25l\u001b[?25hdone\n",
            "  Created wheel for session-info: filename=session_info-1.0.0-py3-none-any.whl size=8026 sha256=3129aff2a6a202d9bd70c1c53a20658242eda6d3dc8352681d44163058462077\n",
            "  Stored in directory: /root/.cache/pip/wheels/6a/aa/b9/eb5d4031476ec10802795b97ccf937b9bd998d68a9b268765a\n",
            "  Building wheel for pynndescent (setup.py) ... \u001b[?25l\u001b[?25hdone\n",
            "  Created wheel for pynndescent: filename=pynndescent-0.5.10-py3-none-any.whl size=55621 sha256=a0530a67ee6c4b1a5bb0b62c08613cc1ce08791095b4f7f20ed89a69e38d2a91\n",
            "  Stored in directory: /root/.cache/pip/wheels/4a/38/5d/f60a40a66a9512b7e5e83517ebc2d1b42d857be97d135f1096\n",
            "Successfully built umap-learn session-info pynndescent\n",
            "Installing collected packages: stdlib_list, session-info, pynndescent, anndata, umap-learn, scanpy, sccoda\n",
            "Successfully installed anndata-0.9.2 pynndescent-0.5.10 scanpy-1.9.3 sccoda-0.1.9 session-info-1.0.0 stdlib_list-0.9.0 umap-learn-0.5.3\n"
          ]
        }
      ]
    },
    {
      "cell_type": "code",
      "execution_count": null,
      "metadata": {
        "collapsed": true,
        "pycharm": {
          "name": "#%%\n"
        },
        "id": "Y_ZV0b-yfVWg"
      },
      "outputs": [],
      "source": [
        "# Setup\n",
        "import importlib\n",
        "import warnings\n",
        "warnings.filterwarnings(\"ignore\")\n",
        "\n",
        "import pandas as pd\n",
        "import pickle as pkl\n",
        "import matplotlib.pyplot as plt\n",
        "\n",
        "from sccoda.util import comp_ana as mod\n",
        "from sccoda.util import cell_composition_data as dat\n",
        "from sccoda.util import data_visualization as viz\n",
        "\n",
        "import sccoda.datasets as scd"
      ]
    },
    {
      "cell_type": "markdown",
      "metadata": {
        "pycharm": {
          "name": "#%% md\n"
        },
        "id": "BoBpGJpefVWg"
      },
      "source": [
        "### Data preparation"
      ]
    },
    {
      "cell_type": "code",
      "source": [
        "??scd.haber"
      ],
      "metadata": {
        "id": "oZrM9yzj8BW2"
      },
      "execution_count": null,
      "outputs": []
    },
    {
      "cell_type": "code",
      "execution_count": null,
      "metadata": {
        "pycharm": {
          "name": "#%%\n"
        },
        "id": "ieomCkysfVWg",
        "outputId": "0f7366e9-7800-49ea-95c0-b9b7093dc9e8",
        "colab": {
          "base_uri": "https://localhost:8080/"
        }
      },
      "outputs": [
        {
          "output_type": "stream",
          "name": "stdout",
          "text": [
            "  Mouse  Hemo1  IRMs1  IRMs2  DAM1  DAM1.1  DAM1.2  DAM2  DAM3  DAM4\n",
            "0   L01   2014    194    111  1607     144     253   112   224   101\n",
            "1   L02   1462    302    187   866      68     125    74   115   547\n",
            "2   L03   1371    112     59  1508     147     300   137   259   137\n",
            "3   L04   1870    182    131  1468     153     258   135   139    51\n",
            "4   L05   1975    159    110  1518     152     281   154   189   169\n",
            "5   L06   1825    246    122  1777     160     339   165   116    45\n"
          ]
        }
      ],
      "source": [
        "# Load data\n",
        "\n",
        "cell_counts = pd.read_csv(\"/content/sccoda.csv\") #scd.haber(\"/content/sample_data/No_of_nuclei_0.25res_sccoda.csv\")\n",
        "\n",
        "print(cell_counts)"
      ]
    },
    {
      "cell_type": "markdown",
      "metadata": {
        "pycharm": {
          "name": "#%% md\n"
        },
        "id": "9gCVcRH3fVWh"
      },
      "source": [
        "Looking at the data, we see that we have 4 control samples, and 3 conditions with 2 samples each.\n",
        "To use the models in *scCODA*, we first have to convert the data into an [anndata](https://github.com/theislab/anndata) object.\n",
        "This can be done easily with the `sccoda.util.cell_composition_data` module.\n",
        "The resulting object separates our data components: Cell counts are stored in `data.X`, covariates in `data.obs`."
      ]
    },
    {
      "cell_type": "code",
      "execution_count": null,
      "metadata": {
        "pycharm": {
          "name": "#%%\n"
        },
        "id": "XbcIFpyzfVWh",
        "outputId": "e203e83c-4f0c-40b0-e38f-8030ae6f634b",
        "colab": {
          "base_uri": "https://localhost:8080/"
        }
      },
      "outputs": [
        {
          "output_type": "stream",
          "name": "stdout",
          "text": [
            "Index(['Mouse', 'Hemo1', 'IRMs1', 'IRMs2', 'DAM1', 'DAM1.1', 'DAM1.2', 'DAM2',\n",
            "       'DAM3', 'DAM4'],\n",
            "      dtype='object')\n",
            "AnnData object with n_obs × n_vars = 6 × 9\n",
            "    obs: 'Hemo1', 'IRMs1', 'IRMs2', 'DAM1', 'DAM1.1', 'DAM1.2', 'DAM2', 'DAM3', 'DAM4', 'Condition'\n",
            "    var: 'Cluster'\n"
          ]
        }
      ],
      "source": [
        "#data_all = dat.from_pandas(cell_counts, covariate_columns=[\"Mouse\"])\n",
        "\n",
        "# Extract condition from mouse name and add it as an extra column to the covariates\n",
        "#data_all.obs[\"Condition\"] = data_all.obs[\"Mouse\"].str.replace(r\"_[0-9]\", \"\", regex=True)\n",
        "#print(data_all.obs)\n",
        "\n",
        "print(cell_counts.columns)\n",
        "\n",
        "import pandas as pd\n",
        "import anndata as ad\n",
        "\n",
        "# Assuming cell_counts is the DataFrame containing your data\n",
        "# Remove leading or trailing whitespace from column names\n",
        "cell_counts.columns = cell_counts.columns.str.strip()\n",
        "\n",
        "# Convert data to anndata object\n",
        "data_all = ad.AnnData(X=cell_counts.iloc[:, 1:].values,  # Exclude the 'Mouse' column\n",
        "                      obs=cell_counts.set_index('Mouse'),  # Use 'Mouse' as observation (obs) index\n",
        "                      var={'Cluster': cell_counts.columns[1:]})  # Set 'Cluster_X' as the feature (var) metadata\n",
        "\n",
        "# Extract condition from mouse name and add it as an extra column to the obs metadata\n",
        "data_all.obs[\"Condition\"] = data_all.obs_names.str.replace(r\"_[0-9]\", \"\", regex=True)\n",
        "\n",
        "print(data_all)\n",
        "\n"
      ]
    },
    {
      "cell_type": "markdown",
      "metadata": {
        "pycharm": {
          "name": "#%% md\n"
        },
        "id": "Em3Ghwr4fVWh"
      },
      "source": [
        "For our first example, we want to look at how the Salmonella infection influences the cell composition.\n",
        "Therefore, we subset our data."
      ]
    },
    {
      "cell_type": "code",
      "execution_count": null,
      "metadata": {
        "pycharm": {
          "name": "#%%\n"
        },
        "id": "EioQHheqfVWi",
        "outputId": "cd1251f3-dbb3-46cd-9217-7ddbef7581aa",
        "colab": {
          "base_uri": "https://localhost:8080/"
        }
      },
      "outputs": [
        {
          "output_type": "stream",
          "name": "stdout",
          "text": [
            "       Hemo1  IRMs1  IRMs2  DAM1  DAM1.1  DAM1.2  DAM2  DAM3  DAM4  \\\n",
            "Mouse                                                                \n",
            "L01     2014    194    111  1607     144     253   112   224   101   \n",
            "L02     1462    302    187   866      68     125    74   115   547   \n",
            "L03     1371    112     59  1508     147     300   137   259   137   \n",
            "L04     1870    182    131  1468     153     258   135   139    51   \n",
            "L05     1975    159    110  1518     152     281   154   189   169   \n",
            "L06     1825    246    122  1777     160     339   165   116    45   \n",
            "\n",
            "         Condition  \n",
            "Mouse               \n",
            "L01        Control  \n",
            "L02        Control  \n",
            "L03        Control  \n",
            "L04    T_depletion  \n",
            "L05    T_depletion  \n",
            "L06    T_depletion  \n"
          ]
        }
      ],
      "source": [
        "\n",
        "# Select control and salmonella data\n",
        "data_salm = data_all\n",
        "data_salm.obs[\"Condition\"] = [\"Control\",\"Control\",\"Control\",\"T_depletion\",\"T_depletion\",\"T_depletion\"]\n",
        "print(data_salm.obs)\n",
        "\n",
        "#data_salm = data_all[data_all.obs[\"Condition\"].isin([\"Young\", \"Aged\"])]\n",
        "#print(data_salm.obs)\n"
      ]
    },
    {
      "cell_type": "markdown",
      "metadata": {
        "pycharm": {
          "name": "#%% md\n"
        },
        "id": "XWe9v4dQfVWi"
      },
      "source": [
        "Plotting the data, we can see that there is a large increase of Enterocytes in the infected sampes, while most other cell types slightly decrease.\n",
        "Since scRNA-seq experiments are limited in the number of cells per sample, the count data is compositional, which leads to negative correlations between the cell types.\n",
        "Thus, the slight decreases in many cell types might be fully caused by the increase in Enterocytes."
      ]
    },
    {
      "cell_type": "code",
      "execution_count": null,
      "metadata": {
        "pycharm": {
          "name": "#%%\n"
        },
        "id": "f7ZDYh8ifVWi",
        "outputId": "3fc93d09-72ef-4c67-aade-426df6eb206d",
        "colab": {
          "base_uri": "https://localhost:8080/",
          "height": 487
        }
      },
      "outputs": [
        {
          "output_type": "display_data",
          "data": {
            "text/plain": [
              "<Figure size 640x480 with 1 Axes>"
            ],
            "image/png": "[encoded data removed]"
          },
          "metadata": {}
        }
      ],
      "source": [
        "boxplot = viz.boxplots(data_salm, feature_name=\"Condition\",cmap = [\"#4f22a3\",\"#f2d38c\"])\n",
        "plt.show()\n",
        "#plt.savefig('/boxplot.pdf', format='pdf')\n",
        "\n",
        "#from google.colab import files\n",
        "#files.download('boxplot.pdf')\n"
      ]
    },
    {
      "cell_type": "markdown",
      "metadata": {
        "pycharm": {
          "name": "#%% md\n"
        },
        "id": "Dqj7W5WmfVWi"
      },
      "source": [
        "*Note that the use of* anndata *in* scCODA *is different from the use in scRNA-seq pipelines, e.g.* scanpy.\n",
        "*To convert* scanpy *objects to a scCODA dataset, have a look at `dat.from_scanpy.*"
      ]
    },
    {
      "cell_type": "markdown",
      "metadata": {
        "pycharm": {
          "name": "#%% md\n"
        },
        "id": "2bzz8EBpfVWi"
      },
      "source": [
        "### Model setup and inference\n",
        "\n",
        "We can now create the model and run inference on it. Creating a `sccoda.util.comp_ana.CompositionalAnalysis` class object\n",
        "sets up the compositional model and prepares everxthing for parameter inference. It needs these informations:\n",
        "\n",
        "- The data object from above.\n",
        "\n",
        "- The `formula` parameter. It specifies how the covariates are used in the model.\n",
        "It can process R-style formulas via the [patsy](https://patsy.readthedocs.io/en/latest/) package, e.g. `formula=\"Cov1 + Cov2 + Cov3\"`.\n",
        "Here, we simply use the \"Condition\" covariate of our dataset\n",
        "\n",
        "- The `reference_cell_type` parameter is used to specify a cell type that is believed to be unchanged by the covariates in `formula`.\n",
        "This is necessary, because compositional analysis must always be performed relative to a reference (See [Büttner, Ostner et al., 2021](https://www.nature.com/articles/s41467-021-27150-6) for a more thorough explanation).\n",
        "If no knowledge about such a cell type exists prior to the analysis, taking a cell type that has a nearly constant relative abundance over all samples is often a good choice.\n",
        "It is also possible to let scCODA find a suited reference cell type by using `reference_cell_type=\"automatic\"`.\n",
        "Here, we take Goblet cells as the reference."
      ]
    },
    {
      "cell_type": "code",
      "execution_count": null,
      "metadata": {
        "pycharm": {
          "name": "#%%\n"
        },
        "id": "NEj4kYhjfVWi"
      },
      "outputs": [],
      "source": [
        "model_salm = mod.CompositionalAnalysis(data_salm, formula=\"Condition\", reference_cell_type=0)"
      ]
    },
    {
      "cell_type": "markdown",
      "metadata": {
        "pycharm": {
          "name": "#%% md\n"
        },
        "id": "XCyORHoIfVWj"
      },
      "source": [
        "HMC sampling is then initiated by calling `model.sample_hmc()`, which produces a `sccoda.util.result_classes.CAResult` object."
      ]
    },
    {
      "cell_type": "code",
      "execution_count": null,
      "metadata": {
        "pycharm": {
          "name": "#%%\n"
        },
        "id": "1IjSEDvcfVWj",
        "outputId": "567b48fb-b64a-4d31-e1a3-c4a4e2b594c0",
        "colab": {
          "base_uri": "https://localhost:8080/"
        }
      },
      "outputs": [
        {
          "output_type": "stream",
          "name": "stderr",
          "text": [
            "WARNING:tensorflow:From /usr/local/lib/python3.10/dist-packages/tensorflow_probability/python/internal/batched_rejection_sampler.py:102: calling while_loop_v2 (from tensorflow.python.ops.control_flow_ops) with back_prop=False is deprecated and will be removed in a future version.\n",
            "Instructions for updating:\n",
            "back_prop=False is deprecated. Consider using tf.stop_gradient instead.\n",
            "Instead of:\n",
            "results = tf.while_loop(c, b, vars, back_prop=False)\n",
            "Use:\n",
            "results = tf.nest.map_structure(tf.stop_gradient, tf.while_loop(c, b, vars))\n",
            "100%|██████████| 20000/20000 [01:28<00:00, 226.07it/s]\n"
          ]
        },
        {
          "output_type": "stream",
          "name": "stdout",
          "text": [
            "MCMC sampling finished. (111.400 sec)\n",
            "Acceptance rate: 59.5%\n"
          ]
        }
      ],
      "source": [
        "# Run MCMC\n",
        "sim_results = model_salm.sample_hmc()"
      ]
    },
    {
      "cell_type": "markdown",
      "metadata": {
        "pycharm": {
          "name": "#%% md\n"
        },
        "id": "Wkh9eYM_fVWj"
      },
      "source": [
        "### Result interpretation\n",
        "\n",
        "Calling `summary()` on the results object, we can see the most relevant information for further analysis:"
      ]
    },
    {
      "cell_type": "code",
      "execution_count": null,
      "metadata": {
        "pycharm": {
          "name": "#%%\n"
        },
        "id": "0W4-jWyEfVWj",
        "outputId": "00c760fe-9093-4dd4-f1f3-d8024563d6b0",
        "colab": {
          "base_uri": "https://localhost:8080/"
        }
      },
      "outputs": [
        {
          "output_type": "stream",
          "name": "stdout",
          "text": [
            "Compositional Analysis summary:\n",
            "\n",
            "Data: 6 samples, 8 cell types\n",
            "Reference index: 3\n",
            "Formula: Condition\n",
            "\n",
            "Intercepts:\n",
            "           Final Parameter  Expected Sample\n",
            "Cell Type                                  \n",
            "0                    2.509       446.273837\n",
            "1                    1.727       204.165869\n",
            "2                    3.954      1893.027630\n",
            "3                    1.937       251.874953\n",
            "4                    1.404       147.810751\n",
            "5                    1.101       109.172887\n",
            "6                    3.527      1235.131532\n",
            "7                    1.831       226.542541\n",
            "\n",
            "\n",
            "Effects:\n",
            "                                    Final Parameter  Expected Sample  \\\n",
            "Covariate                Cell Type                                     \n",
            "Condition[T.T_depletion] 0                      0.0       446.273837   \n",
            "                         1                      0.0       204.165869   \n",
            "                         2                      0.0      1893.027630   \n",
            "                         3                      0.0       251.874953   \n",
            "                         4                      0.0       147.810751   \n",
            "                         5                      0.0       109.172887   \n",
            "                         6                      0.0      1235.131532   \n",
            "                         7                      0.0       226.542541   \n",
            "\n",
            "                                    log2-fold change  \n",
            "Covariate                Cell Type                    \n",
            "Condition[T.T_depletion] 0                       0.0  \n",
            "                         1                       0.0  \n",
            "                         2                       0.0  \n",
            "                         3                       0.0  \n",
            "                         4                       0.0  \n",
            "                         5                       0.0  \n",
            "                         6                       0.0  \n",
            "                         7                       0.0  \n"
          ]
        }
      ],
      "source": [
        "sim_results.summary()"
      ]
    },
    {
      "cell_type": "markdown",
      "metadata": {
        "pycharm": {
          "name": "#%% md\n"
        },
        "id": "Tq5pFaMifVWj"
      },
      "source": [
        "**Model properties**\n",
        "\n",
        "First, the summary shows an overview over the model properties:\n",
        "* Number of samples/cell types\n",
        "* The reference cell type.\n",
        "* The formula used\n",
        "\n",
        "The model has two types of parameters that are relevant for analysis - intercepts and effects.\n",
        "These can be interpreted like in a standard regression model:\n",
        "Intercepts show how the cell types are distributed without any active covariates, effects show ho the covariates influence the cell types.\n",
        "\n",
        "**Intercepts**\n",
        "\n",
        "The first column of the intercept summary shows the parameters determined by the MCMC inference.\n",
        "\n",
        "The \"Expected sample\" column gives some context to the numerical values.\n",
        "If we had a new sample (with no active covariates) with a total number of cells equal to the mean sampling depth of the dataset,\n",
        "then this distribution over the cell types would be most likely.\n",
        "\n",
        "**Effects**\n",
        "\n",
        "For the effect summary, the first column again shows the inferred parameters for all combinations of covariates and cell types.\n",
        "Most important is the distinctions between zero and non-zero entries\n",
        "A value of zero means that no statistically credible effect was detected.\n",
        "For a value other than zero, a credible change was detected. A positive sign indicates an increase, a negative sign a decrease in abundance.\n",
        "\n",
        "Since the numerical values of the \"Final Parameter\" column are not straightforward to interpret, the \"Expected sample\" and \"log2-fold change\" columns give us an idea on the magnitude of the change.\n",
        "The expected sample is calculated for each covariate separately (covariate value = 1, all other covariates = 0), with the same method as for the intercepts.\n",
        "The log-fold change is then calculated between this expected sample and the expected sample with no active covariates from the intercept section.\n",
        "Since the data is compositional, cell types for which no credible change was detected, can still change in abundance as well, as soon as a credible effect is detected on another cell type due to the sum-to-one constraint.\n",
        "If there are no credible effects for a covariate, its expected sample will be identical to the intercept sample, therefore the log2-fold change is 0.\n",
        "\n",
        "**Interpretation**\n",
        "\n",
        "In the salmonella case, we see only a credible increase of Enterocytes, while all other cell types are unaffected by the disease.\n",
        "The log-fold change of Enterocytes between control and infected samples with the same total cell count lies at about 1.54.\n",
        "\n",
        "We can also easily filter out all credible effects:"
      ]
    },
    {
      "cell_type": "code",
      "execution_count": null,
      "metadata": {
        "pycharm": {
          "name": "#%%\n"
        },
        "id": "LmZoxtxyfVWj",
        "outputId": "607a134e-e74c-491d-bc02-4702e460d0e7",
        "colab": {
          "base_uri": "https://localhost:8080/"
        }
      },
      "outputs": [
        {
          "output_type": "stream",
          "name": "stdout",
          "text": [
            "Covariate                 Cell Type\n",
            "Condition[T.T_depletion]  0            False\n",
            "                          1            False\n",
            "                          2            False\n",
            "                          3            False\n",
            "                          4            False\n",
            "                          5            False\n",
            "                          6            False\n",
            "                          7            False\n",
            "                          8            False\n",
            "Name: Final Parameter, dtype: bool\n"
          ]
        }
      ],
      "source": [
        "print(sim_results.credible_effects())"
      ]
    },
    {
      "cell_type": "markdown",
      "metadata": {
        "collapsed": false,
        "pycharm": {
          "name": "#%% md\n"
        },
        "id": "oEfHHnKafVWj"
      },
      "source": [
        "### Adjusting the False discovery rate\n",
        "\n",
        "scCODA selects credible effects based on their inclusion probability.\n",
        "The cutoff between credible and non-credible effects depends on the desired false discovery rate (FDR).\n",
        "A smaller FDR value will produce more conservative results, but might miss some effects,\n",
        "while a larger FDR value selects more effects at the cost of a larger number of false discoveries.\n",
        "\n",
        "The desired FDR level can be easily set after inference via `sim_results.set_fdr()`. Per default, the value is 0.05,\n",
        "but we recommend to increase it if no effects are found at a more conservative level.\n",
        "\n",
        "In our example, setting a desired FDR of 0.4 reveals effects on Endocrine and Enterocyte cells."
      ]
    },
    {
      "cell_type": "code",
      "execution_count": null,
      "metadata": {
        "pycharm": {
          "name": "#%%\n"
        },
        "id": "lZsPMiNMfVWj",
        "outputId": "81e72343-a777-4f72-d875-899b89bd5b14",
        "colab": {
          "base_uri": "https://localhost:8080/"
        }
      },
      "outputs": [
        {
          "output_type": "stream",
          "name": "stdout",
          "text": [
            "Compositional Analysis summary:\n",
            "\n",
            "Data: 6 samples, 9 cell types\n",
            "Reference index: 0\n",
            "Formula: Condition\n",
            "\n",
            "Intercepts:\n",
            "           Final Parameter  Expected Sample\n",
            "Cell Type                                  \n",
            "0                    3.786      1762.264441\n",
            "1                    1.633       204.660984\n",
            "2                    1.165       128.169663\n",
            "3                    3.575      1427.036044\n",
            "4                    1.281       143.934002\n",
            "5                    1.862       257.328859\n",
            "6                    1.230       136.777412\n",
            "7                    1.529       184.445657\n",
            "8                    1.384       159.549605\n",
            "\n",
            "\n",
            "Effects:\n",
            "                                    Final Parameter  Expected Sample  \\\n",
            "Covariate                Cell Type                                     \n",
            "Condition[T.T_depletion] 0                 0.000000      1792.618933   \n",
            "                         1                 0.000000       208.186210   \n",
            "                         2                 0.000000       130.377348   \n",
            "                         3                 0.000000      1451.616324   \n",
            "                         4                 0.000000       146.413223   \n",
            "                         5                 0.000000       261.761274   \n",
            "                         6                 0.000000       139.133363   \n",
            "                         7                -0.115482       167.159953   \n",
            "                         8                -0.417539       106.900037   \n",
            "\n",
            "                                    log2-fold change  \n",
            "Covariate                Cell Type                    \n",
            "Condition[T.T_depletion] 0                  0.024638  \n",
            "                         1                  0.024638  \n",
            "                         2                  0.024638  \n",
            "                         3                  0.024638  \n",
            "                         4                  0.024638  \n",
            "                         5                  0.024638  \n",
            "                         6                  0.024638  \n",
            "                         7                 -0.141967  \n",
            "                         8                 -0.577743  \n",
            "Covariate                 Cell Type\n",
            "Condition[T.T_depletion]  0            False\n",
            "                          1            False\n",
            "                          2            False\n",
            "                          3            False\n",
            "                          4            False\n",
            "                          5            False\n",
            "                          6            False\n",
            "                          7             True\n",
            "                          8             True\n",
            "Name: Final Parameter, dtype: bool\n"
          ]
        }
      ],
      "source": [
        "sim_results.set_fdr(est_fdr=0.4)\n",
        "sim_results.summary()\n",
        "print(sim_results.credible_effects())"
      ]
    },
    {
      "cell_type": "markdown",
      "metadata": {
        "pycharm": {
          "name": "#%% md\n"
        },
        "id": "DIsrXUWvfVWj"
      },
      "source": [
        "### Saving results\n",
        "\n",
        "The compositional analysis results can be saved as a pickle object via `results.save(<path_to_file>)`."
      ]
    },
    {
      "cell_type": "code",
      "execution_count": null,
      "metadata": {
        "pycharm": {
          "name": "#%%\n"
        },
        "id": "1GruKE7XfVWj",
        "outputId": "97a83506-5700-4b99-d271-80a605bb7deb",
        "colab": {
          "base_uri": "https://localhost:8080/"
        }
      },
      "outputs": [
        {
          "output_type": "stream",
          "name": "stdout",
          "text": [
            "Compositional Analysis summary:\n",
            "\n",
            "Data: 6 samples, 9 cell types\n",
            "Reference index: 6\n",
            "Formula: Condition\n",
            "\n",
            "Intercepts:\n",
            "           Final Parameter  Expected Sample\n",
            "Cell Type                                  \n",
            "0                    0.141       271.064717\n",
            "1                   -0.501       142.644797\n",
            "2                   -1.229        68.879431\n",
            "3                    0.450       369.207051\n",
            "4                    0.853       552.447055\n",
            "5                   -1.227        69.017328\n",
            "6                   -0.709       115.857108\n",
            "7                   -0.509       141.508191\n",
            "8                   -0.008       233.540989\n",
            "\n",
            "\n",
            "Effects:\n",
            "                              Final Parameter  Expected Sample  \\\n",
            "Covariate          Cell Type                                     \n",
            "Condition[T.Young] 0                 0.926763       187.702164   \n",
            "                   1                 3.157939       919.685822   \n",
            "                   2                 2.624579       260.518135   \n",
            "                   3                 0.404513       151.654765   \n",
            "                   4                 0.434982       233.942663   \n",
            "                   5                 1.410500        77.524451   \n",
            "                   6                 0.000000        31.756378   \n",
            "                   7                 0.474447        62.336101   \n",
            "                   8                -0.494348        39.046187   \n",
            "\n",
            "                              log2-fold change  \n",
            "Covariate          Cell Type                    \n",
            "Condition[T.Young] 0                 -0.530192  \n",
            "                   1                  2.688714  \n",
            "                   2                  1.919239  \n",
            "                   3                 -1.283639  \n",
            "                   4                 -1.239681  \n",
            "                   5                  0.167693  \n",
            "                   6                 -1.867228  \n",
            "                   7                 -1.182746  \n",
            "                   8                 -2.580422  \n"
          ]
        }
      ],
      "source": [
        "# saving\n",
        "path = \"test\"\n",
        "sim_results.save(path)\n",
        "\n",
        "# loading\n",
        "with open(path, \"rb\") as f:\n",
        "    sim_results_2 = pkl.load(f)\n",
        "\n",
        "sim_results_2.summary()"
      ]
    },
    {
      "cell_type": "code",
      "execution_count": null,
      "metadata": {
        "collapsed": true,
        "pycharm": {
          "name": "#%%\n"
        },
        "id": "7x9rvz_7fVWk",
        "colab": {
          "base_uri": "https://localhost:8080/",
          "height": 504
        },
        "outputId": "95750308-4f94-4eec-f3b7-70a993120b43"
      },
      "outputs": [
        {
          "output_type": "execute_result",
          "data": {
            "text/plain": [
              "<Axes: xlabel='Cell type', ylabel='Proportion'>"
            ]
          },
          "metadata": {},
          "execution_count": 46
        },
        {
          "output_type": "display_data",
          "data": {
            "text/plain": [
              "<Figure size 640x480 with 1 Axes>"
            ],
            "image/png": "[encoded data removed]"
          },
          "metadata": {}
        }
      ],
      "source": [
        "viz.boxplots(data_salm, feature_name=\"Condition\")"
      ]
    },
    {
      "cell_type": "code",
      "source": [
        "import warnings\n",
        "warnings.filterwarnings(\"ignore\")\n",
        "\n",
        "import pandas as pd\n",
        "import patsy as pt\n",
        "import numpy as np\n",
        "\n",
        "from sccoda.model import other_models as om\n",
        "from sccoda.util import cell_composition_data as dat\n",
        "from sccoda.util import data_visualization as viz"
      ],
      "metadata": {
        "id": "nKWui3Y7monT"
      },
      "execution_count": null,
      "outputs": []
    },
    {
      "cell_type": "code",
      "source": [
        "ancom_model = om.AncomModel(data_salm, covariate_column=\"Condition\")"
      ],
      "metadata": {
        "id": "fzzR2YbInCg4"
      },
      "execution_count": null,
      "outputs": []
    },
    {
      "cell_type": "code",
      "source": [
        "alr_t_model = om.ALRModel_ttest(data_salm, covariate_column=\"Condition\")"
      ],
      "metadata": {
        "id": "UWwBpA8nnfIf"
      },
      "execution_count": null,
      "outputs": []
    },
    {
      "cell_type": "code",
      "source": [
        "alr_t_model.fit_model(reference_cell_type=6)"
      ],
      "metadata": {
        "id": "lHvIaK4rnzIE"
      },
      "execution_count": null,
      "outputs": []
    },
    {
      "cell_type": "code",
      "source": [
        "print(alr_t_model.p_val)"
      ],
      "metadata": {
        "colab": {
          "base_uri": "https://localhost:8080/"
        },
        "id": "4wtlp718n3pr",
        "outputId": "87842755-93e8-46ea-f54d-d636e6180266"
      },
      "execution_count": null,
      "outputs": [
        {
          "output_type": "stream",
          "name": "stdout",
          "text": [
            "[0.1686171275294179, 0.1680332200471092, 0.1463159628789218, 0.923270528568792, 0.2649281585511676, 0.0025591480935768093, 1, 0.07309347059586453, 0.2757637888760111]\n"
          ]
        }
      ]
    },
    {
      "cell_type": "code",
      "source": [
        "scdc_model = om.scdney_model(data_salm, covariate_column=\"Condition\")"
      ],
      "metadata": {
        "id": "dqZCnYlco7iz"
      },
      "execution_count": null,
      "outputs": []
    },
    {
      "cell_type": "code",
      "source": [
        "p1 = viz.boxplots(\n",
        "    data_salm,\n",
        "    feature_name=\"Condition\",\n",
        "    plot_facets=True,\n",
        "    y_scale=\"log\",\n",
        "    add_dots=True,\n",
        "    cmap=\"Reds\",\n",
        ")"
      ],
      "metadata": {
        "colab": {
          "base_uri": "https://localhost:8080/",
          "height": 572
        },
        "id": "yoeR_SRco_Py",
        "outputId": "a172bb4a-ff86-49c6-8886-d755a74d6d78"
      },
      "execution_count": null,
      "outputs": [
        {
          "output_type": "display_data",
          "data": {
            "text/plain": [
              "<Figure size 3000x1500 with 9 Axes>"
            ],
            "image/png": "[encoded data removed]"
          },
          "metadata": {}
        }
      ]
    },
    {
      "cell_type": "code",
      "source": [
        "import matplotlib.pyplot as plt\n",
        "from viz import boxplots\n",
        "\n",
        "# ... (your code to load data_salm and other preprocessing if needed)\n",
        "\n",
        "# Assuming data_salm is a list of lists or a pandas DataFrame with the data you want to plot\n",
        "# Modify this part based on your actual data structure\n",
        "\n",
        "# Create the boxplot using the viz library\n",
        "boxplots(data_salm, feature_name=\"Condition\")\n",
        "\n",
        "# Save the plot as a PDF file\n",
        "plt.savefig('boxplot.pdf', format='pdf')\n",
        "\n",
        "# Show the plot\n",
        "plt.show()\n",
        "\n",
        "\n",
        "\n",
        "\n"
      ],
      "metadata": {
        "colab": {
          "base_uri": "https://localhost:8080/",
          "height": 390
        },
        "id": "-lcGZrH-hIvK",
        "outputId": "c4fb71d2-2112-48cb-c1fb-6253624a665c"
      },
      "execution_count": null,
      "outputs": [
        {
          "output_type": "error",
          "ename": "ModuleNotFoundError",
          "evalue": "ignored",
          "traceback": [
            "\u001b[0;31m---------------------------------------------------------------------------\u001b[0m",
            "\u001b[0;31mModuleNotFoundError\u001b[0m                       Traceback (most recent call last)",
            "\u001b[0;32m<ipython-input-21-9f8408343264>\u001b[0m in \u001b[0;36m<cell line: 2>\u001b[0;34m()\u001b[0m\n\u001b[1;32m      1\u001b[0m \u001b[0;32mimport\u001b[0m \u001b[0mmatplotlib\u001b[0m\u001b[0;34m.\u001b[0m\u001b[0mpyplot\u001b[0m \u001b[0;32mas\u001b[0m \u001b[0mplt\u001b[0m\u001b[0;34m\u001b[0m\u001b[0;34m\u001b[0m\u001b[0m\n\u001b[0;32m----> 2\u001b[0;31m \u001b[0;32mfrom\u001b[0m \u001b[0mviz\u001b[0m \u001b[0;32mimport\u001b[0m \u001b[0mboxplots\u001b[0m\u001b[0;34m\u001b[0m\u001b[0;34m\u001b[0m\u001b[0m\n\u001b[0m\u001b[1;32m      3\u001b[0m \u001b[0;34m\u001b[0m\u001b[0m\n\u001b[1;32m      4\u001b[0m \u001b[0;31m# ... (your code to load data_salm and other preprocessing if needed)\u001b[0m\u001b[0;34m\u001b[0m\u001b[0;34m\u001b[0m\u001b[0m\n\u001b[1;32m      5\u001b[0m \u001b[0;34m\u001b[0m\u001b[0m\n",
            "\u001b[0;31mModuleNotFoundError\u001b[0m: No module named 'viz'",
            "",
            "\u001b[0;31m---------------------------------------------------------------------------\u001b[0;32m\nNOTE: If your import is failing due to a missing package, you can\nmanually install dependencies using either !pip or !apt.\n\nTo view examples of installing some common dependencies, click the\n\"Open Examples\" button below.\n\u001b[0;31m---------------------------------------------------------------------------\u001b[0m\n"
          ],
          "errorDetails": {
            "actions": [
              {
                "action": "open_url",
                "actionText": "Open Examples",
                "url": "/notebooks/snippets/importing_libraries.ipynb"
              }
            ]
          }
        }
      ]
    },
    {
      "cell_type": "code",
      "source": [
        "from google.colab import files\n",
        "files.download('sccoda.pdf')"
      ],
      "metadata": {
        "id": "j9_SX9I0X6P3"
      },
      "execution_count": null,
      "outputs": []
    }
  ],
  "metadata": {
    "kernelspec": {
      "display_name": "Python 3.7",
      "language": "python",
      "name": "python3"
    },
    "language_info": {
      "codemirror_mode": {
        "name": "ipython",
        "version": 3
      },
      "file_extension": ".py",
      "mimetype": "text/x-python",
      "name": "python",
      "nbconvert_exporter": "python",
      "pygments_lexer": "ipython3",
      "version": "3.8.8"
    },
    "colab": {
      "provenance": []
    }
  },
  "nbformat": 4,
  "nbformat_minor": 0
}